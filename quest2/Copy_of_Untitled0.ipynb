{
  "nbformat": 4,
  "nbformat_minor": 0,
  "metadata": {
    "colab": {
      "provenance": [],
      "include_colab_link": true
    },
    "kernelspec": {
      "name": "python3",
      "display_name": "Python 3"
    },
    "language_info": {
      "name": "python"
    }
  },
  "cells": [
    {
      "cell_type": "markdown",
      "metadata": {
        "id": "view-in-github",
        "colab_type": "text"
      },
      "source": [
        "<a href=\"https://colab.research.google.com/github/kahram-y/first-repository/blob/master/quest2/Copy_of_Untitled0.ipynb\" target=\"_parent\"><img src=\"https://colab.research.google.com/assets/colab-badge.svg\" alt=\"Open In Colab\"/></a>"
      ]
    },
    {
      "cell_type": "code",
      "execution_count": 16,
      "metadata": {
        "id": "_NSfyhfILm9c"
      },
      "outputs": [],
      "source": [
        "# 1번 과정 시작(텍스트 전처리)\n",
        "f = open ('/content/Avengers.txt','r')"
      ]
    },
    {
      "cell_type": "code",
      "source": [
        "data_all = f.read()"
      ],
      "metadata": {
        "id": "pqR95TsSNkTm"
      },
      "execution_count": 17,
      "outputs": []
    },
    {
      "cell_type": "code",
      "source": [
        "print(data_all)"
      ],
      "metadata": {
        "colab": {
          "base_uri": "https://localhost:8080/"
        },
        "id": "EltujPdcNsY1",
        "outputId": "d400c655-0ad4-4c0d-f861-309211285daf",
        "collapsed": true
      },
      "execution_count": 18,
      "outputs": [
        {
          "output_type": "stream",
          "name": "stdout",
          "text": [
            "f = open ('/content/Avengers.txt','r')\n",
            "data_all = f.read()\n",
            "print(data_all)\n"
          ]
        }
      ]
    },
    {
      "cell_type": "code",
      "source": [
        "f.seek(0) # 다시 처음으로 되돌아가서, readlines가 데이터 읽을 수 있도록 하기"
      ],
      "metadata": {
        "colab": {
          "base_uri": "https://localhost:8080/"
        },
        "id": "nqpdUt3NRvN3",
        "outputId": "6877ceae-1945-4888-8216-a83e94919d40"
      },
      "execution_count": 19,
      "outputs": [
        {
          "output_type": "execute_result",
          "data": {
            "text/plain": [
              "0"
            ]
          },
          "metadata": {},
          "execution_count": 19
        }
      ]
    },
    {
      "cell_type": "code",
      "source": [
        "data_lines = f.readlines() # 리스트에 저장"
      ],
      "metadata": {
        "id": "RvrYBsJCN6AZ"
      },
      "execution_count": 20,
      "outputs": []
    },
    {
      "cell_type": "code",
      "source": [
        "print(data_lines)"
      ],
      "metadata": {
        "id": "SoesuPVJN_ud",
        "colab": {
          "base_uri": "https://localhost:8080/"
        },
        "outputId": "db4fc042-0c48-414e-a1eb-b4ab556646b9"
      },
      "execution_count": 21,
      "outputs": [
        {
          "output_type": "stream",
          "name": "stdout",
          "text": [
            "[\"f = open ('/content/Avengers.txt','r')\\n\", 'data_all = f.read()\\n', 'print(data_all)']\n"
          ]
        }
      ]
    },
    {
      "cell_type": "code",
      "source": [
        "data_lower = [s.lower() for s in data_lines] # 소문자로 변환"
      ],
      "metadata": {
        "id": "n36WexxLSNFh"
      },
      "execution_count": 22,
      "outputs": []
    },
    {
      "cell_type": "code",
      "source": [
        "print(data_lower)"
      ],
      "metadata": {
        "colab": {
          "base_uri": "https://localhost:8080/"
        },
        "id": "qcigT0mqSu3w",
        "outputId": "805920e0-3124-478a-af54-2c68187913d7"
      },
      "execution_count": 23,
      "outputs": [
        {
          "output_type": "stream",
          "name": "stdout",
          "text": [
            "[\"f = open ('/content/avengers.txt','r')\\n\", 'data_all = f.read()\\n', 'print(data_all)']\n"
          ]
        }
      ]
    },
    {
      "cell_type": "code",
      "source": [
        "# 특수문자 제거(은별 버전)\n",
        "clean_lines = [\n",
        "    ''.join(\n",
        "      ch if (ch.islower() or ch.isdigit() or ch.isspace()) else ' '\n",
        "      for ch in line\n",
        "    )\n",
        "    for line in data_lower\n",
        "]\n",
        "\n",
        "# 특수문자 제거(의진님 버전)\n",
        "# clean_lines = []\n",
        "# for line in data_lower:\n",
        "#    for ch in  \".,!:;'\\\"()-\":\n",
        "#      line = line.replace(ch, \" \")\n",
        "#    clean_lines.append(line)"
      ],
      "metadata": {
        "id": "DJrKjTX5Sy9Q"
      },
      "execution_count": 24,
      "outputs": []
    },
    {
      "cell_type": "code",
      "source": [
        "print(clean_lines)"
      ],
      "metadata": {
        "id": "3szx99rfZHg4",
        "colab": {
          "base_uri": "https://localhost:8080/"
        },
        "outputId": "223a775a-57e5-4d1a-849f-73cb7f4d2f36"
      },
      "execution_count": 25,
      "outputs": [
        {
          "output_type": "stream",
          "name": "stdout",
          "text": [
            "['f   open    content avengers txt   r  \\n', 'data all   f read  \\n', 'print data all ']\n"
          ]
        }
      ]
    },
    {
      "cell_type": "code",
      "source": [
        "# 단어 단위로 분리(은별 버전)\n",
        "words_list = [word for line in clean_lines for word in line.split()]\n",
        "\n",
        "# 단어 단위로 분리(가람님 버전)\n",
        "# words_list = [s.split() for s in clean_lines]\n",
        "# print(words_list)\n",
        "# for word in words_list:\n",
        "#    print(word)"
      ],
      "metadata": {
        "id": "sKbumiZpW4a2",
        "collapsed": true
      },
      "execution_count": 26,
      "outputs": []
    },
    {
      "cell_type": "code",
      "source": [
        "# 2번 과정 시작(각 단어별 빈도수를 딕셔너리에 저장)\n",
        "# 나중에 해볼 방법\n",
        "# for문 써서 word count\n",
        "# list.count \"딕셔너리 형태로 저장방법?\"\n",
        "# 지금 사용 방법\n",
        "# Counter \"리스트에서 바로 사용가능한지? -> 문자열 리스트가 아니라 지금 \"리스트의 리스트\" 상태여서? 조치가 필요\"\n",
        "# 그 전 쉘에서 형태 수정\n",
        "\n",
        "from collections import Counter\n",
        "word_count = Counter(words_list)"
      ],
      "metadata": {
        "id": "6m--kXiBapqZ"
      },
      "execution_count": 27,
      "outputs": []
    },
    {
      "cell_type": "code",
      "source": [
        "print(word_count)"
      ],
      "metadata": {
        "id": "ZIx_mE7ohnM6",
        "colab": {
          "base_uri": "https://localhost:8080/"
        },
        "outputId": "2bd4f289-c2a8-42cd-fb80-6c00a853de7d"
      },
      "execution_count": 28,
      "outputs": [
        {
          "output_type": "stream",
          "name": "stdout",
          "text": [
            "Counter({'f': 2, 'data': 2, 'all': 2, 'open': 1, 'content': 1, 'avengers': 1, 'txt': 1, 'r': 1, 'read': 1, 'print': 1})\n"
          ]
        }
      ]
    },
    {
      "cell_type": "code",
      "source": [
        "# 3번 과정 시작(딕셔너리를 빈도순으로 내림차순 정렬 후 정렬 순서대로 정수 인덱스 부여)\n",
        "# vocab 사전 만들기 (빈도 내림차순, 동률이면 단어 오름차순)\n",
        "items = sorted(word_count.items(), key=lambda kv: (-kv[1], kv[0]))\n",
        "vocab = {word: idx for idx, (word, _) in enumerate(items)}\n",
        "\n",
        "print(\"vocab 예시 (10개):\", list(vocab.items())[:10])\n",
        "\n",
        "# 가람님 버전\n",
        "# sorted_dict = dict(sorted(word_count.items(), key=lambda item: item[1], reverse=True))\n",
        "# print(sorted_dict)"
      ],
      "metadata": {
        "id": "gtgaZKJ3h1XC",
        "colab": {
          "base_uri": "https://localhost:8080/"
        },
        "outputId": "7a397981-ab75-4619-82ab-c1fd233ad2b0"
      },
      "execution_count": 29,
      "outputs": [
        {
          "output_type": "stream",
          "name": "stdout",
          "text": [
            "vocab 예시 (10개): [('all', 0), ('data', 1), ('f', 2), ('avengers', 3), ('content', 4), ('open', 5), ('print', 6), ('r', 7), ('read', 8), ('txt', 9)]\n"
          ]
        }
      ]
    },
    {
      "cell_type": "code",
      "source": [
        "# 4번 과정 시작(텍스트를 input()으로 입력받아서 정수를 return하는 함수를 만든다)\n",
        "# encoder 함수 정의\n",
        "UNK_ID = -1  # 사전에 없는 단어는 -1로 처리\n",
        "\n",
        "def preprocess(text):\n",
        "    \"\"\"입력 문장을 전처리 → 토큰 리스트 반환\"\"\"\n",
        "    text = text.lower()\n",
        "    text = re.sub(r\"[^a-z0-9\\s]\", \" \", text)\n",
        "    return text.split()\n",
        "\n",
        "def encoder(text_line, vocab):\n",
        "    \"\"\"문장을 정수 시퀀스로 변환\"\"\"\n",
        "    tokens = preprocess(text_line)\n",
        "    return [vocab.get(tok, UNK_ID) for tok in tokens]\n",
        "\n",
        "# 사용 예시\n",
        "sample = \"I am a boy\"\n",
        "print(sample, \"->\", encoder(sample, vocab))\n"
      ],
      "metadata": {
        "id": "tksgaYBdiDZC",
        "colab": {
          "base_uri": "https://localhost:8080/",
          "height": 321
        },
        "outputId": "61485957-8591-4bfe-e410-91df5a1fd882"
      },
      "execution_count": 30,
      "outputs": [
        {
          "output_type": "error",
          "ename": "NameError",
          "evalue": "name 're' is not defined",
          "traceback": [
            "\u001b[0;31m---------------------------------------------------------------------------\u001b[0m",
            "\u001b[0;31mNameError\u001b[0m                                 Traceback (most recent call last)",
            "\u001b[0;32m/tmp/ipython-input-3005784501.py\u001b[0m in \u001b[0;36m<cell line: 0>\u001b[0;34m()\u001b[0m\n\u001b[1;32m     16\u001b[0m \u001b[0;31m# 사용 예시\u001b[0m\u001b[0;34m\u001b[0m\u001b[0;34m\u001b[0m\u001b[0m\n\u001b[1;32m     17\u001b[0m \u001b[0msample\u001b[0m \u001b[0;34m=\u001b[0m \u001b[0;34m\"I am a boy\"\u001b[0m\u001b[0;34m\u001b[0m\u001b[0;34m\u001b[0m\u001b[0m\n\u001b[0;32m---> 18\u001b[0;31m \u001b[0mprint\u001b[0m\u001b[0;34m(\u001b[0m\u001b[0msample\u001b[0m\u001b[0;34m,\u001b[0m \u001b[0;34m\"->\"\u001b[0m\u001b[0;34m,\u001b[0m \u001b[0mencoder\u001b[0m\u001b[0;34m(\u001b[0m\u001b[0msample\u001b[0m\u001b[0;34m,\u001b[0m \u001b[0mvocab\u001b[0m\u001b[0;34m)\u001b[0m\u001b[0;34m)\u001b[0m\u001b[0;34m\u001b[0m\u001b[0;34m\u001b[0m\u001b[0m\n\u001b[0m",
            "\u001b[0;32m/tmp/ipython-input-3005784501.py\u001b[0m in \u001b[0;36mencoder\u001b[0;34m(text_line, vocab)\u001b[0m\n\u001b[1;32m     11\u001b[0m \u001b[0;32mdef\u001b[0m \u001b[0mencoder\u001b[0m\u001b[0;34m(\u001b[0m\u001b[0mtext_line\u001b[0m\u001b[0;34m,\u001b[0m \u001b[0mvocab\u001b[0m\u001b[0;34m)\u001b[0m\u001b[0;34m:\u001b[0m\u001b[0;34m\u001b[0m\u001b[0;34m\u001b[0m\u001b[0m\n\u001b[1;32m     12\u001b[0m     \u001b[0;34m\"\"\"문장을 정수 시퀀스로 변환\"\"\"\u001b[0m\u001b[0;34m\u001b[0m\u001b[0;34m\u001b[0m\u001b[0m\n\u001b[0;32m---> 13\u001b[0;31m     \u001b[0mtokens\u001b[0m \u001b[0;34m=\u001b[0m \u001b[0mpreprocess\u001b[0m\u001b[0;34m(\u001b[0m\u001b[0mtext_line\u001b[0m\u001b[0;34m)\u001b[0m\u001b[0;34m\u001b[0m\u001b[0;34m\u001b[0m\u001b[0m\n\u001b[0m\u001b[1;32m     14\u001b[0m     \u001b[0;32mreturn\u001b[0m \u001b[0;34m[\u001b[0m\u001b[0mvocab\u001b[0m\u001b[0;34m.\u001b[0m\u001b[0mget\u001b[0m\u001b[0;34m(\u001b[0m\u001b[0mtok\u001b[0m\u001b[0;34m,\u001b[0m \u001b[0mUNK_ID\u001b[0m\u001b[0;34m)\u001b[0m \u001b[0;32mfor\u001b[0m \u001b[0mtok\u001b[0m \u001b[0;32min\u001b[0m \u001b[0mtokens\u001b[0m\u001b[0;34m]\u001b[0m\u001b[0;34m\u001b[0m\u001b[0;34m\u001b[0m\u001b[0m\n\u001b[1;32m     15\u001b[0m \u001b[0;34m\u001b[0m\u001b[0m\n",
            "\u001b[0;32m/tmp/ipython-input-3005784501.py\u001b[0m in \u001b[0;36mpreprocess\u001b[0;34m(text)\u001b[0m\n\u001b[1;32m      6\u001b[0m     \u001b[0;34m\"\"\"입력 문장을 전처리 → 토큰 리스트 반환\"\"\"\u001b[0m\u001b[0;34m\u001b[0m\u001b[0;34m\u001b[0m\u001b[0m\n\u001b[1;32m      7\u001b[0m     \u001b[0mtext\u001b[0m \u001b[0;34m=\u001b[0m \u001b[0mtext\u001b[0m\u001b[0;34m.\u001b[0m\u001b[0mlower\u001b[0m\u001b[0;34m(\u001b[0m\u001b[0;34m)\u001b[0m\u001b[0;34m\u001b[0m\u001b[0;34m\u001b[0m\u001b[0m\n\u001b[0;32m----> 8\u001b[0;31m     \u001b[0mtext\u001b[0m \u001b[0;34m=\u001b[0m \u001b[0mre\u001b[0m\u001b[0;34m.\u001b[0m\u001b[0msub\u001b[0m\u001b[0;34m(\u001b[0m\u001b[0;34mr\"[^a-z0-9\\s]\"\u001b[0m\u001b[0;34m,\u001b[0m \u001b[0;34m\" \"\u001b[0m\u001b[0;34m,\u001b[0m \u001b[0mtext\u001b[0m\u001b[0;34m)\u001b[0m\u001b[0;34m\u001b[0m\u001b[0;34m\u001b[0m\u001b[0m\n\u001b[0m\u001b[1;32m      9\u001b[0m     \u001b[0;32mreturn\u001b[0m \u001b[0mtext\u001b[0m\u001b[0;34m.\u001b[0m\u001b[0msplit\u001b[0m\u001b[0;34m(\u001b[0m\u001b[0;34m)\u001b[0m\u001b[0;34m\u001b[0m\u001b[0;34m\u001b[0m\u001b[0m\n\u001b[1;32m     10\u001b[0m \u001b[0;34m\u001b[0m\u001b[0m\n",
            "\u001b[0;31mNameError\u001b[0m: name 're' is not defined"
          ]
        }
      ]
    }
  ]
}