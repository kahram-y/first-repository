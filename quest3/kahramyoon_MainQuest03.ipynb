{
  "nbformat": 4,
  "nbformat_minor": 0,
  "metadata": {
    "colab": {
      "provenance": [],
      "include_colab_link": true
    },
    "kernelspec": {
      "name": "python3",
      "display_name": "Python 3"
    },
    "language_info": {
      "name": "python"
    }
  },
  "cells": [
    {
      "cell_type": "markdown",
      "metadata": {
        "id": "view-in-github",
        "colab_type": "text"
      },
      "source": [
        "<a href=\"https://colab.research.google.com/github/kahram-y/first-repository/blob/master/quest3/kahramyoon_MainQuest03.ipynb\" target=\"_parent\"><img src=\"https://colab.research.google.com/assets/colab-badge.svg\" alt=\"Open In Colab\"/></a>"
      ]
    },
    {
      "cell_type": "code",
      "execution_count": 4,
      "metadata": {
        "id": "roCZN58vEV8j"
      },
      "outputs": [],
      "source": [
        "import pandas as pd\n",
        "import numpy as np\n",
        "import matplotlib.pyplot as plt\n",
        "import seaborn as sns\n",
        "from scipy import stats\n",
        "from sklearn.model_selection import train_test_split\n",
        "from sklearn.linear_model import LinearRegression\n",
        "from sklearn.linear_model import LogisticRegression\n",
        "from sklearn.ensemble import RandomForestClassifier\n",
        "from sklearn.metrics import (r2_score, confusion_matrix, classification_report,\n",
        "                             precision_recall_fscore_support, roc_auc_score, roc_curve)\n",
        "from sklearn.preprocessing import OneHotEncoder\n",
        "from sklearn.preprocessing import StandardScaler"
      ]
    },
    {
      "cell_type": "code",
      "source": [
        "!pip install kagglehub"
      ],
      "metadata": {
        "id": "Ln2ta7MtEeBn",
        "colab": {
          "base_uri": "https://localhost:8080/"
        },
        "outputId": "d8b8afbd-f058-4e29-ce98-dba4bc1779ce"
      },
      "execution_count": 5,
      "outputs": [
        {
          "output_type": "stream",
          "name": "stdout",
          "text": [
            "Requirement already satisfied: kagglehub in /usr/local/lib/python3.12/dist-packages (0.3.13)\n",
            "Requirement already satisfied: packaging in /usr/local/lib/python3.12/dist-packages (from kagglehub) (25.0)\n",
            "Requirement already satisfied: pyyaml in /usr/local/lib/python3.12/dist-packages (from kagglehub) (6.0.3)\n",
            "Requirement already satisfied: requests in /usr/local/lib/python3.12/dist-packages (from kagglehub) (2.32.4)\n",
            "Requirement already satisfied: tqdm in /usr/local/lib/python3.12/dist-packages (from kagglehub) (4.67.1)\n",
            "Requirement already satisfied: charset_normalizer<4,>=2 in /usr/local/lib/python3.12/dist-packages (from requests->kagglehub) (3.4.4)\n",
            "Requirement already satisfied: idna<4,>=2.5 in /usr/local/lib/python3.12/dist-packages (from requests->kagglehub) (3.11)\n",
            "Requirement already satisfied: urllib3<3,>=1.21.1 in /usr/local/lib/python3.12/dist-packages (from requests->kagglehub) (2.5.0)\n",
            "Requirement already satisfied: certifi>=2017.4.17 in /usr/local/lib/python3.12/dist-packages (from requests->kagglehub) (2025.10.5)\n"
          ]
        }
      ]
    },
    {
      "cell_type": "code",
      "source": [
        "import kagglehub\n",
        "import os\n",
        "\n",
        "# Download latest version\n",
        "path = kagglehub.dataset_download(\"tunguz/online-retail\")\n",
        "\n",
        "print(\"Path to dataset files:\", path)\n",
        "df = pd.read_csv(path + '/' + os.listdir(path)[0], encoding='latin1')\n",
        "df.shape"
      ],
      "metadata": {
        "id": "nzm86qcTEXKO",
        "colab": {
          "base_uri": "https://localhost:8080/"
        },
        "outputId": "abc00f1b-bb62-4351-e62d-e09fb2cd9012"
      },
      "execution_count": 6,
      "outputs": [
        {
          "output_type": "stream",
          "name": "stdout",
          "text": [
            "Using Colab cache for faster access to the 'online-retail' dataset.\n",
            "Path to dataset files: /kaggle/input/online-retail\n"
          ]
        },
        {
          "output_type": "execute_result",
          "data": {
            "text/plain": [
              "(541909, 8)"
            ]
          },
          "metadata": {},
          "execution_count": 6
        }
      ]
    },
    {
      "cell_type": "code",
      "source": [
        "df.head()"
      ],
      "metadata": {
        "id": "1a1z6CpsMVmm",
        "colab": {
          "base_uri": "https://localhost:8080/",
          "height": 206
        },
        "outputId": "547a86b1-0b8d-4e95-94b1-b2815414f810"
      },
      "execution_count": 7,
      "outputs": [
        {
          "output_type": "execute_result",
          "data": {
            "text/plain": [
              "  InvoiceNo StockCode                          Description  Quantity  \\\n",
              "0    536365    85123A   WHITE HANGING HEART T-LIGHT HOLDER         6   \n",
              "1    536365     71053                  WHITE METAL LANTERN         6   \n",
              "2    536365    84406B       CREAM CUPID HEARTS COAT HANGER         8   \n",
              "3    536365    84029G  KNITTED UNION FLAG HOT WATER BOTTLE         6   \n",
              "4    536365    84029E       RED WOOLLY HOTTIE WHITE HEART.         6   \n",
              "\n",
              "    InvoiceDate  UnitPrice  CustomerID         Country  \n",
              "0  12/1/10 8:26       2.55     17850.0  United Kingdom  \n",
              "1  12/1/10 8:26       3.39     17850.0  United Kingdom  \n",
              "2  12/1/10 8:26       2.75     17850.0  United Kingdom  \n",
              "3  12/1/10 8:26       3.39     17850.0  United Kingdom  \n",
              "4  12/1/10 8:26       3.39     17850.0  United Kingdom  "
            ],
            "text/html": [
              "\n",
              "  <div id=\"df-359f445c-6ea7-4bc8-b804-a804f4f0cf7c\" class=\"colab-df-container\">\n",
              "    <div>\n",
              "<style scoped>\n",
              "    .dataframe tbody tr th:only-of-type {\n",
              "        vertical-align: middle;\n",
              "    }\n",
              "\n",
              "    .dataframe tbody tr th {\n",
              "        vertical-align: top;\n",
              "    }\n",
              "\n",
              "    .dataframe thead th {\n",
              "        text-align: right;\n",
              "    }\n",
              "</style>\n",
              "<table border=\"1\" class=\"dataframe\">\n",
              "  <thead>\n",
              "    <tr style=\"text-align: right;\">\n",
              "      <th></th>\n",
              "      <th>InvoiceNo</th>\n",
              "      <th>StockCode</th>\n",
              "      <th>Description</th>\n",
              "      <th>Quantity</th>\n",
              "      <th>InvoiceDate</th>\n",
              "      <th>UnitPrice</th>\n",
              "      <th>CustomerID</th>\n",
              "      <th>Country</th>\n",
              "    </tr>\n",
              "  </thead>\n",
              "  <tbody>\n",
              "    <tr>\n",
              "      <th>0</th>\n",
              "      <td>536365</td>\n",
              "      <td>85123A</td>\n",
              "      <td>WHITE HANGING HEART T-LIGHT HOLDER</td>\n",
              "      <td>6</td>\n",
              "      <td>12/1/10 8:26</td>\n",
              "      <td>2.55</td>\n",
              "      <td>17850.0</td>\n",
              "      <td>United Kingdom</td>\n",
              "    </tr>\n",
              "    <tr>\n",
              "      <th>1</th>\n",
              "      <td>536365</td>\n",
              "      <td>71053</td>\n",
              "      <td>WHITE METAL LANTERN</td>\n",
              "      <td>6</td>\n",
              "      <td>12/1/10 8:26</td>\n",
              "      <td>3.39</td>\n",
              "      <td>17850.0</td>\n",
              "      <td>United Kingdom</td>\n",
              "    </tr>\n",
              "    <tr>\n",
              "      <th>2</th>\n",
              "      <td>536365</td>\n",
              "      <td>84406B</td>\n",
              "      <td>CREAM CUPID HEARTS COAT HANGER</td>\n",
              "      <td>8</td>\n",
              "      <td>12/1/10 8:26</td>\n",
              "      <td>2.75</td>\n",
              "      <td>17850.0</td>\n",
              "      <td>United Kingdom</td>\n",
              "    </tr>\n",
              "    <tr>\n",
              "      <th>3</th>\n",
              "      <td>536365</td>\n",
              "      <td>84029G</td>\n",
              "      <td>KNITTED UNION FLAG HOT WATER BOTTLE</td>\n",
              "      <td>6</td>\n",
              "      <td>12/1/10 8:26</td>\n",
              "      <td>3.39</td>\n",
              "      <td>17850.0</td>\n",
              "      <td>United Kingdom</td>\n",
              "    </tr>\n",
              "    <tr>\n",
              "      <th>4</th>\n",
              "      <td>536365</td>\n",
              "      <td>84029E</td>\n",
              "      <td>RED WOOLLY HOTTIE WHITE HEART.</td>\n",
              "      <td>6</td>\n",
              "      <td>12/1/10 8:26</td>\n",
              "      <td>3.39</td>\n",
              "      <td>17850.0</td>\n",
              "      <td>United Kingdom</td>\n",
              "    </tr>\n",
              "  </tbody>\n",
              "</table>\n",
              "</div>\n",
              "    <div class=\"colab-df-buttons\">\n",
              "\n",
              "  <div class=\"colab-df-container\">\n",
              "    <button class=\"colab-df-convert\" onclick=\"convertToInteractive('df-359f445c-6ea7-4bc8-b804-a804f4f0cf7c')\"\n",
              "            title=\"Convert this dataframe to an interactive table.\"\n",
              "            style=\"display:none;\">\n",
              "\n",
              "  <svg xmlns=\"http://www.w3.org/2000/svg\" height=\"24px\" viewBox=\"0 -960 960 960\">\n",
              "    <path d=\"M120-120v-720h720v720H120Zm60-500h600v-160H180v160Zm220 220h160v-160H400v160Zm0 220h160v-160H400v160ZM180-400h160v-160H180v160Zm440 0h160v-160H620v160ZM180-180h160v-160H180v160Zm440 0h160v-160H620v160Z\"/>\n",
              "  </svg>\n",
              "    </button>\n",
              "\n",
              "  <style>\n",
              "    .colab-df-container {\n",
              "      display:flex;\n",
              "      gap: 12px;\n",
              "    }\n",
              "\n",
              "    .colab-df-convert {\n",
              "      background-color: #E8F0FE;\n",
              "      border: none;\n",
              "      border-radius: 50%;\n",
              "      cursor: pointer;\n",
              "      display: none;\n",
              "      fill: #1967D2;\n",
              "      height: 32px;\n",
              "      padding: 0 0 0 0;\n",
              "      width: 32px;\n",
              "    }\n",
              "\n",
              "    .colab-df-convert:hover {\n",
              "      background-color: #E2EBFA;\n",
              "      box-shadow: 0px 1px 2px rgba(60, 64, 67, 0.3), 0px 1px 3px 1px rgba(60, 64, 67, 0.15);\n",
              "      fill: #174EA6;\n",
              "    }\n",
              "\n",
              "    .colab-df-buttons div {\n",
              "      margin-bottom: 4px;\n",
              "    }\n",
              "\n",
              "    [theme=dark] .colab-df-convert {\n",
              "      background-color: #3B4455;\n",
              "      fill: #D2E3FC;\n",
              "    }\n",
              "\n",
              "    [theme=dark] .colab-df-convert:hover {\n",
              "      background-color: #434B5C;\n",
              "      box-shadow: 0px 1px 3px 1px rgba(0, 0, 0, 0.15);\n",
              "      filter: drop-shadow(0px 1px 2px rgba(0, 0, 0, 0.3));\n",
              "      fill: #FFFFFF;\n",
              "    }\n",
              "  </style>\n",
              "\n",
              "    <script>\n",
              "      const buttonEl =\n",
              "        document.querySelector('#df-359f445c-6ea7-4bc8-b804-a804f4f0cf7c button.colab-df-convert');\n",
              "      buttonEl.style.display =\n",
              "        google.colab.kernel.accessAllowed ? 'block' : 'none';\n",
              "\n",
              "      async function convertToInteractive(key) {\n",
              "        const element = document.querySelector('#df-359f445c-6ea7-4bc8-b804-a804f4f0cf7c');\n",
              "        const dataTable =\n",
              "          await google.colab.kernel.invokeFunction('convertToInteractive',\n",
              "                                                    [key], {});\n",
              "        if (!dataTable) return;\n",
              "\n",
              "        const docLinkHtml = 'Like what you see? Visit the ' +\n",
              "          '<a target=\"_blank\" href=https://colab.research.google.com/notebooks/data_table.ipynb>data table notebook</a>'\n",
              "          + ' to learn more about interactive tables.';\n",
              "        element.innerHTML = '';\n",
              "        dataTable['output_type'] = 'display_data';\n",
              "        await google.colab.output.renderOutput(dataTable, element);\n",
              "        const docLink = document.createElement('div');\n",
              "        docLink.innerHTML = docLinkHtml;\n",
              "        element.appendChild(docLink);\n",
              "      }\n",
              "    </script>\n",
              "  </div>\n",
              "\n",
              "\n",
              "    <div id=\"df-7d1aef64-d407-487d-8904-6f3ab335aae5\">\n",
              "      <button class=\"colab-df-quickchart\" onclick=\"quickchart('df-7d1aef64-d407-487d-8904-6f3ab335aae5')\"\n",
              "                title=\"Suggest charts\"\n",
              "                style=\"display:none;\">\n",
              "\n",
              "<svg xmlns=\"http://www.w3.org/2000/svg\" height=\"24px\"viewBox=\"0 0 24 24\"\n",
              "     width=\"24px\">\n",
              "    <g>\n",
              "        <path d=\"M19 3H5c-1.1 0-2 .9-2 2v14c0 1.1.9 2 2 2h14c1.1 0 2-.9 2-2V5c0-1.1-.9-2-2-2zM9 17H7v-7h2v7zm4 0h-2V7h2v10zm4 0h-2v-4h2v4z\"/>\n",
              "    </g>\n",
              "</svg>\n",
              "      </button>\n",
              "\n",
              "<style>\n",
              "  .colab-df-quickchart {\n",
              "      --bg-color: #E8F0FE;\n",
              "      --fill-color: #1967D2;\n",
              "      --hover-bg-color: #E2EBFA;\n",
              "      --hover-fill-color: #174EA6;\n",
              "      --disabled-fill-color: #AAA;\n",
              "      --disabled-bg-color: #DDD;\n",
              "  }\n",
              "\n",
              "  [theme=dark] .colab-df-quickchart {\n",
              "      --bg-color: #3B4455;\n",
              "      --fill-color: #D2E3FC;\n",
              "      --hover-bg-color: #434B5C;\n",
              "      --hover-fill-color: #FFFFFF;\n",
              "      --disabled-bg-color: #3B4455;\n",
              "      --disabled-fill-color: #666;\n",
              "  }\n",
              "\n",
              "  .colab-df-quickchart {\n",
              "    background-color: var(--bg-color);\n",
              "    border: none;\n",
              "    border-radius: 50%;\n",
              "    cursor: pointer;\n",
              "    display: none;\n",
              "    fill: var(--fill-color);\n",
              "    height: 32px;\n",
              "    padding: 0;\n",
              "    width: 32px;\n",
              "  }\n",
              "\n",
              "  .colab-df-quickchart:hover {\n",
              "    background-color: var(--hover-bg-color);\n",
              "    box-shadow: 0 1px 2px rgba(60, 64, 67, 0.3), 0 1px 3px 1px rgba(60, 64, 67, 0.15);\n",
              "    fill: var(--button-hover-fill-color);\n",
              "  }\n",
              "\n",
              "  .colab-df-quickchart-complete:disabled,\n",
              "  .colab-df-quickchart-complete:disabled:hover {\n",
              "    background-color: var(--disabled-bg-color);\n",
              "    fill: var(--disabled-fill-color);\n",
              "    box-shadow: none;\n",
              "  }\n",
              "\n",
              "  .colab-df-spinner {\n",
              "    border: 2px solid var(--fill-color);\n",
              "    border-color: transparent;\n",
              "    border-bottom-color: var(--fill-color);\n",
              "    animation:\n",
              "      spin 1s steps(1) infinite;\n",
              "  }\n",
              "\n",
              "  @keyframes spin {\n",
              "    0% {\n",
              "      border-color: transparent;\n",
              "      border-bottom-color: var(--fill-color);\n",
              "      border-left-color: var(--fill-color);\n",
              "    }\n",
              "    20% {\n",
              "      border-color: transparent;\n",
              "      border-left-color: var(--fill-color);\n",
              "      border-top-color: var(--fill-color);\n",
              "    }\n",
              "    30% {\n",
              "      border-color: transparent;\n",
              "      border-left-color: var(--fill-color);\n",
              "      border-top-color: var(--fill-color);\n",
              "      border-right-color: var(--fill-color);\n",
              "    }\n",
              "    40% {\n",
              "      border-color: transparent;\n",
              "      border-right-color: var(--fill-color);\n",
              "      border-top-color: var(--fill-color);\n",
              "    }\n",
              "    60% {\n",
              "      border-color: transparent;\n",
              "      border-right-color: var(--fill-color);\n",
              "    }\n",
              "    80% {\n",
              "      border-color: transparent;\n",
              "      border-right-color: var(--fill-color);\n",
              "      border-bottom-color: var(--fill-color);\n",
              "    }\n",
              "    90% {\n",
              "      border-color: transparent;\n",
              "      border-bottom-color: var(--fill-color);\n",
              "    }\n",
              "  }\n",
              "</style>\n",
              "\n",
              "      <script>\n",
              "        async function quickchart(key) {\n",
              "          const quickchartButtonEl =\n",
              "            document.querySelector('#' + key + ' button');\n",
              "          quickchartButtonEl.disabled = true;  // To prevent multiple clicks.\n",
              "          quickchartButtonEl.classList.add('colab-df-spinner');\n",
              "          try {\n",
              "            const charts = await google.colab.kernel.invokeFunction(\n",
              "                'suggestCharts', [key], {});\n",
              "          } catch (error) {\n",
              "            console.error('Error during call to suggestCharts:', error);\n",
              "          }\n",
              "          quickchartButtonEl.classList.remove('colab-df-spinner');\n",
              "          quickchartButtonEl.classList.add('colab-df-quickchart-complete');\n",
              "        }\n",
              "        (() => {\n",
              "          let quickchartButtonEl =\n",
              "            document.querySelector('#df-7d1aef64-d407-487d-8904-6f3ab335aae5 button');\n",
              "          quickchartButtonEl.style.display =\n",
              "            google.colab.kernel.accessAllowed ? 'block' : 'none';\n",
              "        })();\n",
              "      </script>\n",
              "    </div>\n",
              "\n",
              "    </div>\n",
              "  </div>\n"
            ],
            "application/vnd.google.colaboratory.intrinsic+json": {
              "type": "dataframe",
              "variable_name": "df"
            }
          },
          "metadata": {},
          "execution_count": 7
        }
      ]
    },
    {
      "cell_type": "code",
      "source": [
        "df.info()"
      ],
      "metadata": {
        "id": "L0HBCqRrKnx4",
        "colab": {
          "base_uri": "https://localhost:8080/"
        },
        "outputId": "1ce59fa4-2e4d-4bbe-e5e8-25c3eb8fde70"
      },
      "execution_count": 8,
      "outputs": [
        {
          "output_type": "stream",
          "name": "stdout",
          "text": [
            "<class 'pandas.core.frame.DataFrame'>\n",
            "RangeIndex: 541909 entries, 0 to 541908\n",
            "Data columns (total 8 columns):\n",
            " #   Column       Non-Null Count   Dtype  \n",
            "---  ------       --------------   -----  \n",
            " 0   InvoiceNo    541909 non-null  object \n",
            " 1   StockCode    541909 non-null  object \n",
            " 2   Description  540455 non-null  object \n",
            " 3   Quantity     541909 non-null  int64  \n",
            " 4   InvoiceDate  541909 non-null  object \n",
            " 5   UnitPrice    541909 non-null  float64\n",
            " 6   CustomerID   406829 non-null  float64\n",
            " 7   Country      541909 non-null  object \n",
            "dtypes: float64(2), int64(1), object(5)\n",
            "memory usage: 33.1+ MB\n"
          ]
        }
      ]
    },
    {
      "cell_type": "code",
      "source": [
        "# 주문 가격 피쳐 생성\n",
        "df[\"TotalPrice\"] = df[\"Quantity\"] * df[\"UnitPrice\"]"
      ],
      "metadata": {
        "id": "9eMYZRXsMvDk"
      },
      "execution_count": 9,
      "outputs": []
    },
    {
      "cell_type": "code",
      "source": [
        "# 'InvoiceDate' 컬럼을 이용하여 주중과 주말을 구분\n",
        "df['InvoiceDate'] = pd.to_datetime(df['InvoiceDate'])\n",
        "df['DayOfWeek'] = df['InvoiceDate'].dt.dayofweek\n",
        "\n",
        "# 'InvoiceDate' 컬럼 이용하여 판매 월 추출\n",
        "df[\"InvoiceDate\"] = pd.to_datetime(df[\"InvoiceDate\"].astype(str))\n",
        "df[\"InvoiceMonth\"] = df[\"InvoiceDate\"].dt.month"
      ],
      "metadata": {
        "id": "Yjh3OImd9Yms",
        "colab": {
          "base_uri": "https://localhost:8080/"
        },
        "outputId": "11cb2ccd-0859-4980-b648-d38a95cc52a4"
      },
      "execution_count": 10,
      "outputs": [
        {
          "output_type": "stream",
          "name": "stderr",
          "text": [
            "/tmp/ipython-input-3844768752.py:2: UserWarning: Could not infer format, so each element will be parsed individually, falling back to `dateutil`. To ensure parsing is consistent and as-expected, please specify a format.\n",
            "  df['InvoiceDate'] = pd.to_datetime(df['InvoiceDate'])\n"
          ]
        }
      ]
    },
    {
      "cell_type": "code",
      "source": [
        "df.head(5)"
      ],
      "metadata": {
        "colab": {
          "base_uri": "https://localhost:8080/",
          "height": 206
        },
        "id": "vo6N5KcW0PND",
        "outputId": "2f618bf1-20d7-4f77-ed84-971abcf13e04"
      },
      "execution_count": 11,
      "outputs": [
        {
          "output_type": "execute_result",
          "data": {
            "text/plain": [
              "  InvoiceNo StockCode                          Description  Quantity  \\\n",
              "0    536365    85123A   WHITE HANGING HEART T-LIGHT HOLDER         6   \n",
              "1    536365     71053                  WHITE METAL LANTERN         6   \n",
              "2    536365    84406B       CREAM CUPID HEARTS COAT HANGER         8   \n",
              "3    536365    84029G  KNITTED UNION FLAG HOT WATER BOTTLE         6   \n",
              "4    536365    84029E       RED WOOLLY HOTTIE WHITE HEART.         6   \n",
              "\n",
              "          InvoiceDate  UnitPrice  CustomerID         Country  TotalPrice  \\\n",
              "0 2010-12-01 08:26:00       2.55     17850.0  United Kingdom       15.30   \n",
              "1 2010-12-01 08:26:00       3.39     17850.0  United Kingdom       20.34   \n",
              "2 2010-12-01 08:26:00       2.75     17850.0  United Kingdom       22.00   \n",
              "3 2010-12-01 08:26:00       3.39     17850.0  United Kingdom       20.34   \n",
              "4 2010-12-01 08:26:00       3.39     17850.0  United Kingdom       20.34   \n",
              "\n",
              "   DayOfWeek  InvoiceMonth  \n",
              "0          2            12  \n",
              "1          2            12  \n",
              "2          2            12  \n",
              "3          2            12  \n",
              "4          2            12  "
            ],
            "text/html": [
              "\n",
              "  <div id=\"df-d9508b11-afee-49be-9afc-9d699ea0b597\" class=\"colab-df-container\">\n",
              "    <div>\n",
              "<style scoped>\n",
              "    .dataframe tbody tr th:only-of-type {\n",
              "        vertical-align: middle;\n",
              "    }\n",
              "\n",
              "    .dataframe tbody tr th {\n",
              "        vertical-align: top;\n",
              "    }\n",
              "\n",
              "    .dataframe thead th {\n",
              "        text-align: right;\n",
              "    }\n",
              "</style>\n",
              "<table border=\"1\" class=\"dataframe\">\n",
              "  <thead>\n",
              "    <tr style=\"text-align: right;\">\n",
              "      <th></th>\n",
              "      <th>InvoiceNo</th>\n",
              "      <th>StockCode</th>\n",
              "      <th>Description</th>\n",
              "      <th>Quantity</th>\n",
              "      <th>InvoiceDate</th>\n",
              "      <th>UnitPrice</th>\n",
              "      <th>CustomerID</th>\n",
              "      <th>Country</th>\n",
              "      <th>TotalPrice</th>\n",
              "      <th>DayOfWeek</th>\n",
              "      <th>InvoiceMonth</th>\n",
              "    </tr>\n",
              "  </thead>\n",
              "  <tbody>\n",
              "    <tr>\n",
              "      <th>0</th>\n",
              "      <td>536365</td>\n",
              "      <td>85123A</td>\n",
              "      <td>WHITE HANGING HEART T-LIGHT HOLDER</td>\n",
              "      <td>6</td>\n",
              "      <td>2010-12-01 08:26:00</td>\n",
              "      <td>2.55</td>\n",
              "      <td>17850.0</td>\n",
              "      <td>United Kingdom</td>\n",
              "      <td>15.30</td>\n",
              "      <td>2</td>\n",
              "      <td>12</td>\n",
              "    </tr>\n",
              "    <tr>\n",
              "      <th>1</th>\n",
              "      <td>536365</td>\n",
              "      <td>71053</td>\n",
              "      <td>WHITE METAL LANTERN</td>\n",
              "      <td>6</td>\n",
              "      <td>2010-12-01 08:26:00</td>\n",
              "      <td>3.39</td>\n",
              "      <td>17850.0</td>\n",
              "      <td>United Kingdom</td>\n",
              "      <td>20.34</td>\n",
              "      <td>2</td>\n",
              "      <td>12</td>\n",
              "    </tr>\n",
              "    <tr>\n",
              "      <th>2</th>\n",
              "      <td>536365</td>\n",
              "      <td>84406B</td>\n",
              "      <td>CREAM CUPID HEARTS COAT HANGER</td>\n",
              "      <td>8</td>\n",
              "      <td>2010-12-01 08:26:00</td>\n",
              "      <td>2.75</td>\n",
              "      <td>17850.0</td>\n",
              "      <td>United Kingdom</td>\n",
              "      <td>22.00</td>\n",
              "      <td>2</td>\n",
              "      <td>12</td>\n",
              "    </tr>\n",
              "    <tr>\n",
              "      <th>3</th>\n",
              "      <td>536365</td>\n",
              "      <td>84029G</td>\n",
              "      <td>KNITTED UNION FLAG HOT WATER BOTTLE</td>\n",
              "      <td>6</td>\n",
              "      <td>2010-12-01 08:26:00</td>\n",
              "      <td>3.39</td>\n",
              "      <td>17850.0</td>\n",
              "      <td>United Kingdom</td>\n",
              "      <td>20.34</td>\n",
              "      <td>2</td>\n",
              "      <td>12</td>\n",
              "    </tr>\n",
              "    <tr>\n",
              "      <th>4</th>\n",
              "      <td>536365</td>\n",
              "      <td>84029E</td>\n",
              "      <td>RED WOOLLY HOTTIE WHITE HEART.</td>\n",
              "      <td>6</td>\n",
              "      <td>2010-12-01 08:26:00</td>\n",
              "      <td>3.39</td>\n",
              "      <td>17850.0</td>\n",
              "      <td>United Kingdom</td>\n",
              "      <td>20.34</td>\n",
              "      <td>2</td>\n",
              "      <td>12</td>\n",
              "    </tr>\n",
              "  </tbody>\n",
              "</table>\n",
              "</div>\n",
              "    <div class=\"colab-df-buttons\">\n",
              "\n",
              "  <div class=\"colab-df-container\">\n",
              "    <button class=\"colab-df-convert\" onclick=\"convertToInteractive('df-d9508b11-afee-49be-9afc-9d699ea0b597')\"\n",
              "            title=\"Convert this dataframe to an interactive table.\"\n",
              "            style=\"display:none;\">\n",
              "\n",
              "  <svg xmlns=\"http://www.w3.org/2000/svg\" height=\"24px\" viewBox=\"0 -960 960 960\">\n",
              "    <path d=\"M120-120v-720h720v720H120Zm60-500h600v-160H180v160Zm220 220h160v-160H400v160Zm0 220h160v-160H400v160ZM180-400h160v-160H180v160Zm440 0h160v-160H620v160ZM180-180h160v-160H180v160Zm440 0h160v-160H620v160Z\"/>\n",
              "  </svg>\n",
              "    </button>\n",
              "\n",
              "  <style>\n",
              "    .colab-df-container {\n",
              "      display:flex;\n",
              "      gap: 12px;\n",
              "    }\n",
              "\n",
              "    .colab-df-convert {\n",
              "      background-color: #E8F0FE;\n",
              "      border: none;\n",
              "      border-radius: 50%;\n",
              "      cursor: pointer;\n",
              "      display: none;\n",
              "      fill: #1967D2;\n",
              "      height: 32px;\n",
              "      padding: 0 0 0 0;\n",
              "      width: 32px;\n",
              "    }\n",
              "\n",
              "    .colab-df-convert:hover {\n",
              "      background-color: #E2EBFA;\n",
              "      box-shadow: 0px 1px 2px rgba(60, 64, 67, 0.3), 0px 1px 3px 1px rgba(60, 64, 67, 0.15);\n",
              "      fill: #174EA6;\n",
              "    }\n",
              "\n",
              "    .colab-df-buttons div {\n",
              "      margin-bottom: 4px;\n",
              "    }\n",
              "\n",
              "    [theme=dark] .colab-df-convert {\n",
              "      background-color: #3B4455;\n",
              "      fill: #D2E3FC;\n",
              "    }\n",
              "\n",
              "    [theme=dark] .colab-df-convert:hover {\n",
              "      background-color: #434B5C;\n",
              "      box-shadow: 0px 1px 3px 1px rgba(0, 0, 0, 0.15);\n",
              "      filter: drop-shadow(0px 1px 2px rgba(0, 0, 0, 0.3));\n",
              "      fill: #FFFFFF;\n",
              "    }\n",
              "  </style>\n",
              "\n",
              "    <script>\n",
              "      const buttonEl =\n",
              "        document.querySelector('#df-d9508b11-afee-49be-9afc-9d699ea0b597 button.colab-df-convert');\n",
              "      buttonEl.style.display =\n",
              "        google.colab.kernel.accessAllowed ? 'block' : 'none';\n",
              "\n",
              "      async function convertToInteractive(key) {\n",
              "        const element = document.querySelector('#df-d9508b11-afee-49be-9afc-9d699ea0b597');\n",
              "        const dataTable =\n",
              "          await google.colab.kernel.invokeFunction('convertToInteractive',\n",
              "                                                    [key], {});\n",
              "        if (!dataTable) return;\n",
              "\n",
              "        const docLinkHtml = 'Like what you see? Visit the ' +\n",
              "          '<a target=\"_blank\" href=https://colab.research.google.com/notebooks/data_table.ipynb>data table notebook</a>'\n",
              "          + ' to learn more about interactive tables.';\n",
              "        element.innerHTML = '';\n",
              "        dataTable['output_type'] = 'display_data';\n",
              "        await google.colab.output.renderOutput(dataTable, element);\n",
              "        const docLink = document.createElement('div');\n",
              "        docLink.innerHTML = docLinkHtml;\n",
              "        element.appendChild(docLink);\n",
              "      }\n",
              "    </script>\n",
              "  </div>\n",
              "\n",
              "\n",
              "    <div id=\"df-c0c48c4f-cd3b-4203-8afe-a7e26d669663\">\n",
              "      <button class=\"colab-df-quickchart\" onclick=\"quickchart('df-c0c48c4f-cd3b-4203-8afe-a7e26d669663')\"\n",
              "                title=\"Suggest charts\"\n",
              "                style=\"display:none;\">\n",
              "\n",
              "<svg xmlns=\"http://www.w3.org/2000/svg\" height=\"24px\"viewBox=\"0 0 24 24\"\n",
              "     width=\"24px\">\n",
              "    <g>\n",
              "        <path d=\"M19 3H5c-1.1 0-2 .9-2 2v14c0 1.1.9 2 2 2h14c1.1 0 2-.9 2-2V5c0-1.1-.9-2-2-2zM9 17H7v-7h2v7zm4 0h-2V7h2v10zm4 0h-2v-4h2v4z\"/>\n",
              "    </g>\n",
              "</svg>\n",
              "      </button>\n",
              "\n",
              "<style>\n",
              "  .colab-df-quickchart {\n",
              "      --bg-color: #E8F0FE;\n",
              "      --fill-color: #1967D2;\n",
              "      --hover-bg-color: #E2EBFA;\n",
              "      --hover-fill-color: #174EA6;\n",
              "      --disabled-fill-color: #AAA;\n",
              "      --disabled-bg-color: #DDD;\n",
              "  }\n",
              "\n",
              "  [theme=dark] .colab-df-quickchart {\n",
              "      --bg-color: #3B4455;\n",
              "      --fill-color: #D2E3FC;\n",
              "      --hover-bg-color: #434B5C;\n",
              "      --hover-fill-color: #FFFFFF;\n",
              "      --disabled-bg-color: #3B4455;\n",
              "      --disabled-fill-color: #666;\n",
              "  }\n",
              "\n",
              "  .colab-df-quickchart {\n",
              "    background-color: var(--bg-color);\n",
              "    border: none;\n",
              "    border-radius: 50%;\n",
              "    cursor: pointer;\n",
              "    display: none;\n",
              "    fill: var(--fill-color);\n",
              "    height: 32px;\n",
              "    padding: 0;\n",
              "    width: 32px;\n",
              "  }\n",
              "\n",
              "  .colab-df-quickchart:hover {\n",
              "    background-color: var(--hover-bg-color);\n",
              "    box-shadow: 0 1px 2px rgba(60, 64, 67, 0.3), 0 1px 3px 1px rgba(60, 64, 67, 0.15);\n",
              "    fill: var(--button-hover-fill-color);\n",
              "  }\n",
              "\n",
              "  .colab-df-quickchart-complete:disabled,\n",
              "  .colab-df-quickchart-complete:disabled:hover {\n",
              "    background-color: var(--disabled-bg-color);\n",
              "    fill: var(--disabled-fill-color);\n",
              "    box-shadow: none;\n",
              "  }\n",
              "\n",
              "  .colab-df-spinner {\n",
              "    border: 2px solid var(--fill-color);\n",
              "    border-color: transparent;\n",
              "    border-bottom-color: var(--fill-color);\n",
              "    animation:\n",
              "      spin 1s steps(1) infinite;\n",
              "  }\n",
              "\n",
              "  @keyframes spin {\n",
              "    0% {\n",
              "      border-color: transparent;\n",
              "      border-bottom-color: var(--fill-color);\n",
              "      border-left-color: var(--fill-color);\n",
              "    }\n",
              "    20% {\n",
              "      border-color: transparent;\n",
              "      border-left-color: var(--fill-color);\n",
              "      border-top-color: var(--fill-color);\n",
              "    }\n",
              "    30% {\n",
              "      border-color: transparent;\n",
              "      border-left-color: var(--fill-color);\n",
              "      border-top-color: var(--fill-color);\n",
              "      border-right-color: var(--fill-color);\n",
              "    }\n",
              "    40% {\n",
              "      border-color: transparent;\n",
              "      border-right-color: var(--fill-color);\n",
              "      border-top-color: var(--fill-color);\n",
              "    }\n",
              "    60% {\n",
              "      border-color: transparent;\n",
              "      border-right-color: var(--fill-color);\n",
              "    }\n",
              "    80% {\n",
              "      border-color: transparent;\n",
              "      border-right-color: var(--fill-color);\n",
              "      border-bottom-color: var(--fill-color);\n",
              "    }\n",
              "    90% {\n",
              "      border-color: transparent;\n",
              "      border-bottom-color: var(--fill-color);\n",
              "    }\n",
              "  }\n",
              "</style>\n",
              "\n",
              "      <script>\n",
              "        async function quickchart(key) {\n",
              "          const quickchartButtonEl =\n",
              "            document.querySelector('#' + key + ' button');\n",
              "          quickchartButtonEl.disabled = true;  // To prevent multiple clicks.\n",
              "          quickchartButtonEl.classList.add('colab-df-spinner');\n",
              "          try {\n",
              "            const charts = await google.colab.kernel.invokeFunction(\n",
              "                'suggestCharts', [key], {});\n",
              "          } catch (error) {\n",
              "            console.error('Error during call to suggestCharts:', error);\n",
              "          }\n",
              "          quickchartButtonEl.classList.remove('colab-df-spinner');\n",
              "          quickchartButtonEl.classList.add('colab-df-quickchart-complete');\n",
              "        }\n",
              "        (() => {\n",
              "          let quickchartButtonEl =\n",
              "            document.querySelector('#df-c0c48c4f-cd3b-4203-8afe-a7e26d669663 button');\n",
              "          quickchartButtonEl.style.display =\n",
              "            google.colab.kernel.accessAllowed ? 'block' : 'none';\n",
              "        })();\n",
              "      </script>\n",
              "    </div>\n",
              "\n",
              "    </div>\n",
              "  </div>\n"
            ],
            "application/vnd.google.colaboratory.intrinsic+json": {
              "type": "dataframe",
              "variable_name": "df"
            }
          },
          "metadata": {},
          "execution_count": 11
        }
      ]
    },
    {
      "cell_type": "markdown",
      "source": [
        "## 1. 모집단과 표본 집단의 TotalPrice를 비교해 주세요.\n",
        "\n",
        "* 데이터셋에서 무작위로 1000개의 표본을 추출하세요.\n",
        "* 추출된 표본과 전체 데이터셋의 'TotalPrice'에 대해 평균과 표준편차를 비교해주세요.  \n",
        "* 중심극한정리를 사용해 모집단과 표본의 차이를 설명해주세요."
      ],
      "metadata": {
        "id": "JT3nUp9NMpGi"
      }
    },
    {
      "cell_type": "code",
      "source": [
        "# 무작위로 1000개의 표본 추출\n",
        "sample = df.sample(n=1000, random_state=42)"
      ],
      "metadata": {
        "id": "-VJd-zJU9qSR"
      },
      "execution_count": 12,
      "outputs": []
    },
    {
      "cell_type": "code",
      "source": [
        "# 모집단과 표본의 평균 및 표준편차 계산\n",
        "pop_mean = df['TotalPrice'].mean()\n",
        "pop_std = df['TotalPrice'].std()\n",
        "sample_mean = sample['TotalPrice'].mean()\n",
        "sample_std = sample['TotalPrice'].std()\n",
        "print(\"[모집단 (Population)]\")\n",
        "print(f\"평균(mean): {pop_mean:.4f}\")\n",
        "print(f\"표준편차(std): {pop_std:.4f}\\n\")\n",
        "print(\"[표본 (Sample, n=1000)]\")\n",
        "print(f\"평균(mean): {sample_mean:.4f}\")\n",
        "print(f\"표준편차(std): {sample_std:.4f}\")"
      ],
      "metadata": {
        "id": "ZauLBaxV9qJf",
        "colab": {
          "base_uri": "https://localhost:8080/"
        },
        "outputId": "d45bc5bc-801f-4aad-e30d-c6f2010618ad"
      },
      "execution_count": 13,
      "outputs": [
        {
          "output_type": "stream",
          "name": "stdout",
          "text": [
            "[모집단 (Population)]\n",
            "평균(mean): 17.9878\n",
            "표준편차(std): 378.8108\n",
            "\n",
            "[표본 (Sample, n=1000)]\n",
            "평균(mean): 16.8321\n",
            "표준편차(std): 64.4673\n"
          ]
        }
      ]
    },
    {
      "cell_type": "code",
      "source": [
        "# 표본평균의 분포 측정\n",
        "se = pop_std / np.sqrt(len(sample))\n",
        "print(f\"표본평균의 표준오차(SE): {se:.4f}\")"
      ],
      "metadata": {
        "colab": {
          "base_uri": "https://localhost:8080/"
        },
        "id": "Bm0bYtqaggqt",
        "outputId": "910e79af-9e05-4c27-ec57-8f5d4d047039"
      },
      "execution_count": 14,
      "outputs": [
        {
          "output_type": "stream",
          "name": "stdout",
          "text": [
            "표본평균의 표준오차(SE): 11.9791\n"
          ]
        }
      ]
    },
    {
      "cell_type": "markdown",
      "source": [
        "중심극한정리에 의하면 크기가 충분히 큰 표본(n≥30)에 대하여 표본평균은 대략 정규분포를 따르고, 표본평균과 모집단평균의 차이는 대부분 pop_std / sqrt(n)로 계산된 표본평균의 표준오차(SE) 범위 내에 있습니다.\n",
        "\n"
      ],
      "metadata": {
        "id": "4TK5mokqcKDc"
      }
    },
    {
      "cell_type": "markdown",
      "source": [
        "## 2. 주문이 가장 많은 상위 두 국가의 'TotalPrice' 평균에 차이가 있는지 검증하세요.\n",
        "\n",
        "* 'Country' 변수를 바탕으로 주문이 가장 많은 상위 두 국가를 찾으세요.\n",
        "* 독립표본 t-검정을 사용하여 두 국가 간 'TotalPrice' 평균의 차이가 통계적으로 유의미한지 검증하세요.  \n",
        "* t-통계량과 p-값을 해석하여 결과를 설명하고, 1종 오류와 2종 오류의 개념을 적용하여 설명해주세요."
      ],
      "metadata": {
        "id": "dvTXhGBpNG2E"
      }
    },
    {
      "cell_type": "code",
      "source": [
        "# 상위 2개 국가 찾기\n",
        "top_countries = sample['Country'].value_counts().head(2).index.tolist()\n",
        "print(\"주문이 가장 많은 상위 두 국가:\", top_countries)"
      ],
      "metadata": {
        "id": "ffgl-6Kk9rrO",
        "colab": {
          "base_uri": "https://localhost:8080/"
        },
        "outputId": "b6ee88f9-0e9f-4537-f762-b7c666a2cbfb"
      },
      "execution_count": 15,
      "outputs": [
        {
          "output_type": "stream",
          "name": "stdout",
          "text": [
            "주문이 가장 많은 상위 두 국가: ['United Kingdom', 'EIRE']\n"
          ]
        }
      ]
    },
    {
      "cell_type": "code",
      "source": [
        "# 각 국가의 TotalPrice 데이터 추출\n",
        "country1 = sample.loc[sample['Country'] == top_countries[0], 'TotalPrice']\n",
        "country2 = sample.loc[sample['Country'] == top_countries[1], 'TotalPrice']\n",
        "print(f\"[{top_countries[0]}] 표본 개수: {len(country1)}, 평균: {country1.mean():.2f}, 표준편차: {country1.std():.2f}\")\n",
        "print(f\"[{top_countries[1]}] 표본 개수: {len(country2)}, 평균: {country2.mean():.2f}, 표준편차: {country2.std():.2f}\")"
      ],
      "metadata": {
        "id": "UuN-1uRCNz_I",
        "colab": {
          "base_uri": "https://localhost:8080/"
        },
        "outputId": "c1865b62-d635-4834-c6ec-566b2364d2a4"
      },
      "execution_count": 16,
      "outputs": [
        {
          "output_type": "stream",
          "name": "stdout",
          "text": [
            "[United Kingdom] 표본 개수: 900, 평균: 16.02, 표준편차: 66.11\n",
            "[EIRE] 표본 개수: 20, 평균: 23.55, 표준편차: 25.03\n"
          ]
        }
      ]
    },
    {
      "cell_type": "code",
      "source": [
        "# 정규성 확인 (Shapiro-Wilk 주의: 큰 표본에서는 민감)\n",
        "shapiro1 = stats.shapiro(country1.sample(500, random_state=42) if len(country1) > 500 else country1)\n",
        "shapiro2 = stats.shapiro(country2)\n",
        "\n",
        "if shapiro1.pvalue > 0.05 and shapiro2.pvalue > 0.05:\n",
        "    print(\"→ 정규성 가정: 충족\")\n",
        "else:\n",
        "    print(\"→ 적어도 한 집단은 정규성을 만족하지 않습니다. (정규분포 가정이 약함)\")"
      ],
      "metadata": {
        "colab": {
          "base_uri": "https://localhost:8080/"
        },
        "id": "046ZXTtPrGNS",
        "outputId": "60929e10-d558-4b41-eae6-83d91f9b0444"
      },
      "execution_count": 17,
      "outputs": [
        {
          "output_type": "stream",
          "name": "stdout",
          "text": [
            "→ 적어도 한 집단은 정규성을 만족하지 않습니다. (정규분포 가정이 약함)\n"
          ]
        }
      ]
    },
    {
      "cell_type": "code",
      "source": [
        "# Levene 등분산 검정\n",
        "levene_stat, levene_p = stats.levene(country1, country2, center='mean')\n",
        "\n",
        "if levene_p > 0.05:\n",
        "    print(\"→ 등분산 가정: 충족\")\n",
        "else:\n",
        "    print(\"→ 불충족 (Welch t-test 사용)\")"
      ],
      "metadata": {
        "colab": {
          "base_uri": "https://localhost:8080/"
        },
        "id": "peFO4h9Yvrmc",
        "outputId": "9a462a10-14fe-457e-a835-fd61714d4667"
      },
      "execution_count": 18,
      "outputs": [
        {
          "output_type": "stream",
          "name": "stdout",
          "text": [
            "→ 등분산 가정: 충족\n"
          ]
        }
      ]
    },
    {
      "cell_type": "code",
      "source": [
        "# 독립표본 t-검정\n",
        "t_stat, p_val = stats.ttest_ind(country1, country2, equal_var=True, nan_policy='omit')\n",
        "print(f\"독립표본 t-검정: t-통계량 = {t_stat:.4f}, p-값 = {p_val:.4e}\")\n",
        "\n",
        "alpha = 0.05\n",
        "if p_val < alpha:\n",
        "    print(\"→ 귀무가설 기각: 두 국가의 평균 TotalPrice는 통계적으로 유의미하게 다릅니다.\")\n",
        "else:\n",
        "    print(\"→ 귀무가설 채택: 두 국가의 평균 TotalPrice 차이는 통계적으로 유의미하지 않습니다.\")"
      ],
      "metadata": {
        "colab": {
          "base_uri": "https://localhost:8080/"
        },
        "id": "6dgJZLOC6P3v",
        "outputId": "d6fdd2ce-f86a-4bbc-ea6e-4f0ad37add3f"
      },
      "execution_count": 20,
      "outputs": [
        {
          "output_type": "stream",
          "name": "stdout",
          "text": [
            "독립표본 t-검정: t-통계량 = -0.5089, p-값 = 6.1096e-01\n",
            "→ 귀무가설 채택: 두 국가의 평균 TotalPrice 차이는 통계적으로 유의미하지 않습니다.\n"
          ]
        }
      ]
    },
    {
      "cell_type": "markdown",
      "source": [
        "t-통계량은 두 집단 평균 차이를 표준오차로 나눈 값으로, |t| 값이 작을수록 두 집단의 차이가 유의하지 않습니다. p-값은 관찰된 차이가 우연히 발생할 확률로, p > α 이면 우연히 보기 쉬운 차이라고 판단하여 귀무가설을 기각하지 않습니다.\n",
        "\n",
        "2종 오류란 실제로 두 국가의 평균이 다른데, 잘못해서 같다고 판단하는 오류로, 표본 수가 작거나 변동성이 클수록 2종 오류 가능성이 커집니다. 이러한 2종 오류를 줄이기 위해서는 표본 수를 충분히 확보하거나, t-검정을 하기 위한 정규성/등분산 가정이 충족됐는지 확인할 필요가 있습니다."
      ],
      "metadata": {
        "id": "ux3zONmL8hqu"
      }
    },
    {
      "cell_type": "markdown",
      "source": [
        "## 3. 주중, 주말에 따라서 발생하는 UnitPrice의 분포가 달라지는지 확인하세요.\n",
        "\n",
        "* 주중의 'UnitPrice'와 주말의 'UnitPrice'의 분포를 분석하기 위해 데이터의 중심경향치(평균, 중간값), 변산성(표준편차, 분산), 분위수를 계산하세요.  \n",
        "* 상자수염그림과 히스토그램을 그려 시각화를 통해 분포를 확인하고 데이터의 분포에 대해 설명해주세요."
      ],
      "metadata": {
        "id": "yWpUgBedN0PK"
      }
    },
    {
      "cell_type": "code",
      "source": [
        "# 주중 / 주말 구분\n",
        "sample['IsWeekend'] = sample['DayOfWeek'].apply(lambda x: 'Weekend' if x >= 5 else 'Weekday')\n",
        "\n",
        "weekday = sample.loc[sample['IsWeekend'] == 'Weekday', 'UnitPrice']\n",
        "weekend = sample.loc[sample['IsWeekend'] == 'Weekend', 'UnitPrice']\n",
        "\n",
        "# 결측치 제거\n",
        "weekday = weekday.dropna()\n",
        "weekend = weekend.dropna()\n",
        "\n",
        "# 기술통계 계산\n",
        "def summary_stats(s):\n",
        "    return {\n",
        "        'count': len(s),\n",
        "        'mean': np.mean(s),\n",
        "        'median': np.median(s),\n",
        "        'std': np.std(s, ddof=1),\n",
        "        'var': np.var(s, ddof=1),\n",
        "        'min': np.min(s),\n",
        "        '25%': np.percentile(s, 25),\n",
        "        '75%': np.percentile(s, 75),\n",
        "        'max': np.max(s)\n",
        "    }\n",
        "\n",
        "weekday_stats = summary_stats(weekday)\n",
        "weekend_stats = summary_stats(weekend)\n",
        "\n",
        "print(\"주중(UnitPrice) 통계 요약:\")\n",
        "for k, v in weekday_stats.items():\n",
        "    print(f\"{k:<8}: {v:.4f}\")\n",
        "\n",
        "print(\"\\n주말(UnitPrice) 통계 요약:\")\n",
        "for k, v in weekend_stats.items():\n",
        "    print(f\"{k:<8}: {v:.4f}\")"
      ],
      "metadata": {
        "id": "rAMuPWXh9uAN",
        "colab": {
          "base_uri": "https://localhost:8080/"
        },
        "outputId": "d3181a7b-1a91-40cc-d211-1062ef720e2e"
      },
      "execution_count": 21,
      "outputs": [
        {
          "output_type": "stream",
          "name": "stdout",
          "text": [
            "주중(UnitPrice) 통계 요약:\n",
            "count   : 898.0000\n",
            "mean    : 3.6908\n",
            "median  : 2.0800\n",
            "std     : 8.7972\n",
            "var     : 77.3914\n",
            "min     : 0.0000\n",
            "25%     : 1.2500\n",
            "75%     : 4.1300\n",
            "max     : 222.7500\n",
            "\n",
            "주말(UnitPrice) 통계 요약:\n",
            "count   : 102.0000\n",
            "mean    : 2.7128\n",
            "median  : 1.6500\n",
            "std     : 2.7753\n",
            "var     : 7.7021\n",
            "min     : 0.2900\n",
            "25%     : 1.2500\n",
            "75%     : 3.2500\n",
            "max     : 18.0000\n"
          ]
        }
      ]
    },
    {
      "cell_type": "code",
      "source": [
        "# 상자수염그림 (Boxplot)\n",
        "plt.figure()\n",
        "sns.boxplot(x='IsWeekend', y='UnitPrice', data=sample, palette='Set2')\n",
        "plt.title(\"Boxplot of UnitPrice by Weekday/Weekend \")\n",
        "plt.ylabel(\"UnitPrice\")\n",
        "plt.xlabel(\"Day Type\")\n",
        "plt.show()"
      ],
      "metadata": {
        "id": "qynX6XgM9t5n",
        "colab": {
          "base_uri": "https://localhost:8080/",
          "height": 559
        },
        "outputId": "3171497c-cf0a-4bee-fce0-2d9feb8f08b0"
      },
      "execution_count": 22,
      "outputs": [
        {
          "output_type": "stream",
          "name": "stderr",
          "text": [
            "/tmp/ipython-input-549341064.py:3: FutureWarning: \n",
            "\n",
            "Passing `palette` without assigning `hue` is deprecated and will be removed in v0.14.0. Assign the `x` variable to `hue` and set `legend=False` for the same effect.\n",
            "\n",
            "  sns.boxplot(x='IsWeekend', y='UnitPrice', data=sample, palette='Set2')\n"
          ]
        },
        {
          "output_type": "display_data",
          "data": {
            "text/plain": [
              "<Figure size 640x480 with 1 Axes>"
            ],
            "image/png": "[encoded data removed]"
          },
          "metadata": {}
        }
      ]
    },
    {
      "cell_type": "code",
      "source": [
        "# 히스토그램 시각화\n",
        "plt.figure()\n",
        "sns.histplot(weekday, color='skyblue', label='Weekday', bins=30)\n",
        "sns.histplot(weekend, color='salmon', label='Weekend', bins=30)\n",
        "plt.legend()\n",
        "plt.title(\"Histogram of UnitPrice by Weekday/Weekend\")\n",
        "plt.xlabel(\"UnitPrice\")\n",
        "plt.ylabel(\"Count\")\n",
        "plt.show()"
      ],
      "metadata": {
        "id": "pBNoAnjj9tzh",
        "colab": {
          "base_uri": "https://localhost:8080/",
          "height": 472
        },
        "outputId": "fe032137-fb7b-4ca5-d823-538750caed09"
      },
      "execution_count": 24,
      "outputs": [
        {
          "output_type": "display_data",
          "data": {
            "text/plain": [
              "<Figure size 640x480 with 1 Axes>"
            ],
            "image/png": "[encoded data removed]"
          },
          "metadata": {}
        }
      ]
    },
    {
      "cell_type": "markdown",
      "source": [
        "Histogram의 꼬리가 한쪽으로 치우친 것으로 보아, 대부분 저가 상품 위주로 구성되었다는 것을 확인할 수 있습니다. Boxplot에서 주중에 이상치(outlier)가 확인되어 고가 상품이 일부 포함된 것을 확인할 수 있습니다. 요약하자면, UnitPrice는 주중/주말에 따라 큰 차이가 없을 수도 있지만, 특정 패턴(예: 주중에 고가 상품 판매 비중 증가)이 확인됩니다.\n",
        "\n",
        "추가적으로, 분포 모양을 이상적으로 시각화하기 위해서는 UnitPrice와 같은 컬럼이 큰 영향을 주지 않도록 스케일링 작업을 해볼 수 있습니다."
      ],
      "metadata": {
        "id": "T7OYKAL3CWEu"
      }
    },
    {
      "cell_type": "markdown",
      "source": [
        "## 4. 상품의 단가와 판매 국가, 판매 날짜을 이용해 판매 수량을 예측하는 회귀 모델을 만드세요.\n",
        "* 필요한 데이터를 정리하고 결측치와 이상치를 제거해주세요.  \n",
        "* 변수를 다음과 같이 설정하여 다중 선형 회귀 분석을 진행하세요.\n",
        "    * 종속변수: 판매 수량(`Quantity`)\n",
        "    * 독립변수: 상품 단가(`UnitPrice`), 판매 국가(`Country`), 판매 요일(`DayOfWeek`), 판매 월( `InvoiceMonth`)   \n",
        "* 회귀계수와 결정계수를 활용하여 회귀 분석 결과를 해석해주세요."
      ],
      "metadata": {
        "id": "zbNpkFBBT4aK"
      }
    },
    {
      "cell_type": "code",
      "source": [
        "# 다중 선형 회귀: Quantity 예측\n",
        "# 필요한 데이터 선택\n",
        "cols = ['Quantity', 'UnitPrice', 'Country', 'DayOfWeek', 'InvoiceMonth']\n",
        "\n",
        "# 결측치 제거\n",
        "df = sample[cols].dropna().copy()\n",
        "\n",
        "# 이상치 제거\n",
        "# Quantity와 UnitPrice의 0 이하의 값 제거\n",
        "df = df[(df['Quantity'] > 0) & (df['UnitPrice'] > 0)]\n",
        "\n",
        "# Quantity와 UnitPrice의 극단값(상위 99%) 제거\n",
        "q_low = df['Quantity'].quantile(0.01)\n",
        "q_high = df['Quantity'].quantile(0.99)\n",
        "p_low = df['UnitPrice'].quantile(0.01)\n",
        "p_high = df['UnitPrice'].quantile(0.99)\n",
        "\n",
        "df = df[\n",
        "    (df['Quantity'].between(q_low, q_high)) &\n",
        "    (df['UnitPrice'].between(p_low, p_high))\n",
        "]\n",
        "\n",
        "print(f\"전처리 완료: {len(df)}개 샘플 남음\")\n",
        "\n",
        "\n",
        "# 범주형 변수 원-핫 인코딩\n",
        "df_encoded = pd.get_dummies(df, columns=['Country', 'DayOfWeek', 'InvoiceMonth'], drop_first=True)\n",
        "\n",
        "# 종속변수(y), 독립변수(X) 설정\n",
        "X = df_encoded.drop('Quantity', axis=1)\n",
        "y = df_encoded['Quantity']\n",
        "\n",
        "# 학습/검증 데이터 분할\n",
        "X_train, X_test, y_train, y_test = train_test_split(X, y, test_size=0.2, random_state=42)\n",
        "\n",
        "# 스케일링 (UnitPrice가 큰 영향을 주지 않도록)\n",
        "# ss = StandardScaler()\n",
        "# X_train['UnitPrice'] = ss.fit_transform(X_train[['UnitPrice']])\n",
        "# X_test['UnitPrice'] = ss.transform(X_test[['UnitPrice']])\n",
        "\n",
        "# 회귀 모델 학습\n",
        "lr = LinearRegression()\n",
        "lr.fit(X_train, y_train)\n",
        "\n",
        "# 예측 및 성능평가\n",
        "y_pred = lr.predict(X_test)\n",
        "r2 = r2_score(y_test, y_pred)\n",
        "print('\\n선형회귀 결정계수: {:.4f}'.format(r2))\n",
        "\n",
        "# 회귀계수 출력\n",
        "coef_df = pd.DataFrame({'feature': X_train.columns, 'coef': lr.coef_}).sort_values(by='coef', ascending=False)\n",
        "print(\"\\n회귀계수 (상위 영향 변수)\")\n",
        "print(coef_df.head(10))\n",
        "print(\"\\n회귀계수 (하위 영향 변수)\")\n",
        "print(coef_df.tail(10))\n"
      ],
      "metadata": {
        "id": "katPA0wf9wST",
        "colab": {
          "base_uri": "https://localhost:8080/"
        },
        "outputId": "d758a6c4-f279-435c-8ad0-0e7dc8c24f78"
      },
      "execution_count": 25,
      "outputs": [
        {
          "output_type": "stream",
          "name": "stdout",
          "text": [
            "전처리 완료: 945개 샘플 남음\n",
            "\n",
            "선형회귀 결정계수: 0.0889\n",
            "\n",
            "회귀계수 (상위 영향 변수)\n",
            "                    feature       coef\n",
            "12      Country_Netherlands  26.479629\n",
            "18           Country_Sweden  25.917221\n",
            "11            Country_Italy  23.512610\n",
            "15         Country_Portugal  12.479674\n",
            "1           Country_Austria  11.824987\n",
            "19      Country_Switzerland  11.352662\n",
            "4            Country_Canada   9.364970\n",
            "7              Country_EIRE   9.321092\n",
            "9            Country_France   9.115733\n",
            "5   Country_Channel Islands   8.257845\n",
            "\n",
            "회귀계수 (하위 영향 변수)\n",
            "            feature      coef\n",
            "22      DayOfWeek_1 -0.327798\n",
            "0         UnitPrice -0.887226\n",
            "37  InvoiceMonth_12 -1.273776\n",
            "32   InvoiceMonth_7 -1.316539\n",
            "31   InvoiceMonth_6 -2.017593\n",
            "30   InvoiceMonth_5 -2.416253\n",
            "29   InvoiceMonth_4 -2.477401\n",
            "28   InvoiceMonth_3 -2.737920\n",
            "35  InvoiceMonth_10 -3.322452\n",
            "36  InvoiceMonth_11 -3.326992\n"
          ]
        }
      ]
    },
    {
      "cell_type": "markdown",
      "source": [
        "회귀계수가 양수인 변수는 Quantity를 증가시키고, 음수인 변수는 Quantity를 감소시키는 방향으로 작용합니다. 예를 들어, 특정 국가 더미변수가 양수라면, 그 국가에서 상대적으로 판매 수량이 많다는 뜻입니다.\n",
        "\n",
        "결정계수(R²)가 0.0889인 것으로 보아 이 다중회귀모델은 판매수량의 변동을 8.89% 설명한다고 해석할 수 있습니다. 판매 수량에 영향을 주는 다른 요인(예: 프로모션, 시즌, 고객유형 등)을 추가하면 모델 성능이 개선될 수 있습니다."
      ],
      "metadata": {
        "id": "DNhbfvRxRDzP"
      }
    },
    {
      "cell_type": "markdown",
      "source": [
        "## 5. 상품 정보와 거래 정보를 바탕으로 해당 거래가 반품될 가능성을 예측하는 로지스틱 회귀 모델을 만드세요.\n",
        "* 필요한 데이터를 정리하고 결측치와 이상치를 제거해주세요.  \n",
        "* `Quantity` 피쳐를 활용해 `IsReturn` 피쳐를 생성하세요.\n",
        "* 모델 학습에 사용할 적절한 피쳐를 선정하세요.\n",
        "* 모델 학습과 검증을 위해 데이터셋을 train셋과 test셋으로 나누세요.\n",
        "* `IsReturn`을 예측하는 로지스틱 회귀 모델을 학습하세요.\n",
        "* 혼동행렬, 정밀도, 재현율, F1-score 등 다양한 평가지표를 사용하여 모델의 성능을 평가하세요.\n",
        "* 모델의 성능을 더 높일 수 있는 방안에 대해서 고민해보세요."
      ],
      "metadata": {
        "id": "QDgJTeRoUwjf"
      }
    },
    {
      "cell_type": "code",
      "source": [
        "# 로지스틱 회귀: 반품 여부 예측\n",
        "# 복사본 사용\n",
        "df = sample.copy()\n",
        "\n",
        "# IsReturn 피쳐 생성: 0 이하의 Quantity를 반품으로 간주\n",
        "df['IsReturn'] = (df['Quantity'] <= 0).astype(int)\n",
        "\n",
        "# 사용할 피쳐 선정\n",
        "features = ['UnitPrice', 'TotalPrice', 'Country', 'DayOfWeek', 'InvoiceMonth']\n",
        "required = features + ['IsReturn']\n",
        "df = df[required].copy()\n",
        "\n",
        "# 결측치 제거\n",
        "df = df.dropna()\n",
        "\n",
        "# 이상치 처리: UnitPrice 음수 제거\n",
        "df = df[df['UnitPrice'] >= 0]\n",
        "\n",
        "# 극단값 제거: UnitPrice의 상위 0.5% 컷\n",
        "up_price_cut = df['UnitPrice'].quantile(0.995)\n",
        "df = df[df['UnitPrice'] <= up_price_cut]\n",
        "\n",
        "# 클래스 불균형 확인\n",
        "# ret_rate = df['IsReturn'].mean()\n",
        "# print(f\"총 샘플 수: {len(df):,}, 반품 비율(IsReturn=1): {ret_rate:.4f}\")\n",
        "\n",
        "# 범주형 변수(Country) 원-핫 인코딩\n",
        "df_enc = pd.get_dummies(df, columns=['Country'], drop_first=True)\n",
        "\n",
        "# 독립/종속 설정\n",
        "X = df_enc.drop(columns=['IsReturn'])\n",
        "y = df_enc['IsReturn']\n",
        "\n",
        "# 수치형 칼럼(UnitPrice, TotalPrice) 스케일링\n",
        "num_cols = ['UnitPrice', 'TotalPrice']\n",
        "ss = StandardScaler()\n",
        "X[num_cols] = ss.fit_transform(X[num_cols])\n",
        "\n",
        "# train/test split (층화 샘플링)\n",
        "X_train, X_test, y_train, y_test = train_test_split(X, y, test_size=0.2, random_state=42, stratify=y)\n",
        "\n",
        "# 모델 학습: 로지스틱 회귀\n",
        "lr = LogisticRegression(max_iter=1000)\n",
        "lr.fit(X_train, y_train)\n",
        "\n",
        "# 예측\n",
        "y_pred = lr.predict(X_test)\n",
        "y_prob = lr.predict_proba(X_test)[:, 1]\n",
        "\n",
        "# 평가\n",
        "# 혼동행렬\n",
        "cm = confusion_matrix(y_test, y_pred)\n",
        "print(\"\\nConfusion Matrix (rows: actual, cols: predicted)\\n\", cm)\n",
        "\n",
        "print(\"\\nClassification report:\\n\")\n",
        "print(classification_report(y_test, y_pred, digits=4))\n",
        "\n",
        "prec, recall, f1, _ = precision_recall_fscore_support(y_test, y_pred, average='binary', pos_label=1)\n",
        "print(f\"Precision (IsReturn=1): {prec:.4f}\")\n",
        "print(f\"Recall    (IsReturn=1): {recall:.4f}\")\n",
        "print(f\"F1-score  (IsReturn=1): {f1:.4f}\")\n",
        "\n",
        "# ROC-AUC\n",
        "if len(np.unique(y_test)) > 1:\n",
        "    auc = roc_auc_score(y_test, y_prob)\n",
        "    print(f\"\\nROC AUC: {auc:.4f}\")\n",
        "\n",
        "    # ROC curve 시각화\n",
        "    fpr, tpr, _ = roc_curve(y_test, y_prob)\n",
        "    plt.figure(figsize=(6,5))\n",
        "    plt.plot(fpr, tpr, label=f'Logistic (AUC={auc:.3f})')\n",
        "    plt.plot([0,1],[0,1], linestyle='--', color='gray')\n",
        "    plt.xlabel('False Positive Rate')\n",
        "    plt.ylabel('True Positive Rate')\n",
        "    plt.title('ROC Curve')\n",
        "    plt.legend()\n",
        "    plt.show()"
      ],
      "metadata": {
        "id": "qk0d5pqM9yVk",
        "colab": {
          "base_uri": "https://localhost:8080/",
          "height": 1000
        },
        "outputId": "ea7842ad-e6e6-425d-c63e-27f1cf83f974"
      },
      "execution_count": 26,
      "outputs": [
        {
          "output_type": "stream",
          "name": "stdout",
          "text": [
            "\n",
            "Confusion Matrix (rows: actual, cols: predicted)\n",
            " [[194   0]\n",
            " [  5   0]]\n",
            "\n",
            "Classification report:\n",
            "\n",
            "              precision    recall  f1-score   support\n",
            "\n",
            "           0     0.9749    1.0000    0.9873       194\n",
            "           1     0.0000    0.0000    0.0000         5\n",
            "\n",
            "    accuracy                         0.9749       199\n",
            "   macro avg     0.4874    0.5000    0.4936       199\n",
            "weighted avg     0.9504    0.9749    0.9625       199\n",
            "\n",
            "Precision (IsReturn=1): 0.0000\n",
            "Recall    (IsReturn=1): 0.0000\n",
            "F1-score  (IsReturn=1): 0.0000\n",
            "\n",
            "ROC AUC: 0.9299\n"
          ]
        },
        {
          "output_type": "stream",
          "name": "stderr",
          "text": [
            "/usr/local/lib/python3.12/dist-packages/sklearn/metrics/_classification.py:1565: UndefinedMetricWarning: Precision is ill-defined and being set to 0.0 in labels with no predicted samples. Use `zero_division` parameter to control this behavior.\n",
            "  _warn_prf(average, modifier, f\"{metric.capitalize()} is\", len(result))\n",
            "/usr/local/lib/python3.12/dist-packages/sklearn/metrics/_classification.py:1565: UndefinedMetricWarning: Precision is ill-defined and being set to 0.0 in labels with no predicted samples. Use `zero_division` parameter to control this behavior.\n",
            "  _warn_prf(average, modifier, f\"{metric.capitalize()} is\", len(result))\n",
            "/usr/local/lib/python3.12/dist-packages/sklearn/metrics/_classification.py:1565: UndefinedMetricWarning: Precision is ill-defined and being set to 0.0 in labels with no predicted samples. Use `zero_division` parameter to control this behavior.\n",
            "  _warn_prf(average, modifier, f\"{metric.capitalize()} is\", len(result))\n",
            "/usr/local/lib/python3.12/dist-packages/sklearn/metrics/_classification.py:1565: UndefinedMetricWarning: Precision is ill-defined and being set to 0.0 due to no predicted samples. Use `zero_division` parameter to control this behavior.\n",
            "  _warn_prf(average, modifier, f\"{metric.capitalize()} is\", len(result))\n"
          ]
        },
        {
          "output_type": "display_data",
          "data": {
            "text/plain": [
              "<Figure size 600x500 with 1 Axes>"
            ],
            "image/png": "[encoded data removed]"
          },
          "metadata": {}
        }
      ]
    },
    {
      "cell_type": "markdown",
      "source": [
        "혼돈행렬(Confusion Matrix) 표로부터 정확도(accuracy), 정밀도(precision), 재현율(recall), F1-score를 계산합니다.\n",
        "\n",
        "AUC값은 0.9299로, 전반적으로 분류 성능이 매우 우수하다고 볼 수 있습니다.\n"
      ],
      "metadata": {
        "id": "qojEcVb_T4-h"
      }
    },
    {
      "cell_type": "markdown",
      "source": [
        "**성능 향상 방안**\n",
        "- 데이터 전처리 개선:\n",
        "   - 이상치 추가 제거\n",
        "- 피쳐 엔지니어링:\n",
        "   - CustomerID: 고객별 과거 반품률(반품 이력)\n",
        "   - StockCode (상품 코드): 특정 상품에 대한 반품 경향\n",
        "   - 고객별 누적 구매량, 최근 구매 빈도, 재구매율, 시간대 등 파생변수 추가\n",
        "- 모델링:\n",
        "   - 트리 기반 모델 (RandomForest, XGBoost, LightGBM) — 비선형 관계와 범주 중요도 포착에 유리\n",
        "   - 앙상블 + 하이퍼파라미터 튜닝 (GridSearch / RandomizedSearchCV)\n",
        "   - 교차검증(CV)으로 안정적 성능 측정"
      ],
      "metadata": {
        "id": "BXfHYiAjUs9B"
      }
    },
    {
      "cell_type": "code",
      "source": [
        "# 비선형 관계를 포착할 수 있는 랜덤포레스트 적용\n",
        "# 랜덤포레스트 모델 정의 및 학습\n",
        "rf = RandomForestClassifier(\n",
        "    n_estimators=200,        # 트리 개수\n",
        "    max_depth=10,            # 트리 최대 깊이 (과적합 방지)\n",
        "    random_state=42,\n",
        "    class_weight='balanced'  # 반품 데이터 불균형 시 유용\n",
        ")\n",
        "\n",
        "rf.fit(X_train, y_train)\n",
        "\n",
        "# 예측 및 확률 계산\n",
        "y_pred_rf = rf.predict(X_test)\n",
        "y_prob_rf = rf.predict_proba(X_test)[:, 1]  # ROC-AUC용\n",
        "\n",
        "# 혼동행렬 및 주요 평가지표\n",
        "cm_rf = confusion_matrix(y_test, y_pred_rf)\n",
        "print(\"\\n[랜덤포레스트 혼동행렬 (rows: actual, cols: predicted)]\\n\", cm_rf)\n",
        "\n",
        "print(\"\\n[Classification Report - Random Forest]\\n\")\n",
        "print(classification_report(y_test, y_pred_rf, digits=4))\n",
        "\n",
        "# Precision, Recall, F1-score (직접 출력)\n",
        "prec, recall, f1, _ = precision_recall_fscore_support(y_test, y_pred_rf, average='binary', pos_label=1)\n",
        "print(f\"Precision (IsReturn=1): {prec:.4f}\")\n",
        "print(f\"Recall    (IsReturn=1): {recall:.4f}\")\n",
        "print(f\"F1-score  (IsReturn=1): {f1:.4f}\")\n",
        "\n",
        "# ROC-AUC 및 곡선 시각화\n",
        "if len(np.unique(y_test)) > 1:\n",
        "    auc_rf = roc_auc_score(y_test, y_prob_rf)\n",
        "    print(f\"\\nROC AUC (RandomForest): {auc_rf:.4f}\")\n",
        "\n",
        "    fpr, tpr, _ = roc_curve(y_test, y_prob_rf)\n",
        "    plt.figure(figsize=(6,5))\n",
        "    plt.plot(fpr, tpr, label=f'RandomForest (AUC={auc_rf:.3f})')\n",
        "    plt.plot([0,1],[0,1],'--', color='gray')\n",
        "    plt.xlabel('False Positive Rate')\n",
        "    plt.ylabel('True Positive Rate')\n",
        "    plt.title('ROC Curve - Random Forest')\n",
        "    plt.legend()\n",
        "    plt.show()\n"
      ],
      "metadata": {
        "id": "mcvefNO19yk6",
        "colab": {
          "base_uri": "https://localhost:8080/",
          "height": 851
        },
        "outputId": "3d5af872-bbd9-4ce9-c4db-d01ca7cca888"
      },
      "execution_count": 27,
      "outputs": [
        {
          "output_type": "stream",
          "name": "stdout",
          "text": [
            "\n",
            "[랜덤포레스트 혼동행렬 (rows: actual, cols: predicted)]\n",
            " [[194   0]\n",
            " [  1   4]]\n",
            "\n",
            "[Classification Report - Random Forest]\n",
            "\n",
            "              precision    recall  f1-score   support\n",
            "\n",
            "           0     0.9949    1.0000    0.9974       194\n",
            "           1     1.0000    0.8000    0.8889         5\n",
            "\n",
            "    accuracy                         0.9950       199\n",
            "   macro avg     0.9974    0.9000    0.9432       199\n",
            "weighted avg     0.9950    0.9950    0.9947       199\n",
            "\n",
            "Precision (IsReturn=1): 1.0000\n",
            "Recall    (IsReturn=1): 0.8000\n",
            "F1-score  (IsReturn=1): 0.8889\n",
            "\n",
            "ROC AUC (RandomForest): 1.0000\n"
          ]
        },
        {
          "output_type": "display_data",
          "data": {
            "text/plain": [
              "<Figure size 600x500 with 1 Axes>"
            ],
            "image/png": "[encoded data removed]"
          },
          "metadata": {}
        }
      ]
    },
    {
      "cell_type": "markdown",
      "source": [
        "F1-score, Recall, ROC-AUC가 로지스틱 회귀보다 상승했습니다."
      ],
      "metadata": {
        "id": "fGc-v6qkjkcl"
      }
    }
  ]
}